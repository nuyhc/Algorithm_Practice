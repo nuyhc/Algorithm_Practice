{
 "cells": [
  {
   "cell_type": "markdown",
   "metadata": {},
   "source": [
    "# 백준 solved.ac BRONZE 5 문제 풀이"
   ]
  },
  {
   "cell_type": "markdown",
   "metadata": {},
   "source": [
    "## 백준 2845 파티가 끝나고 난 뒤\n"
   ]
  },
  {
   "cell_type": "code",
   "execution_count": 25,
   "metadata": {},
   "outputs": [
    {
     "name": "stdout",
     "output_type": "stream",
     "text": [
      "-1 1 900 -100 -3 "
     ]
    }
   ],
   "source": [
    "l, p = map(int, input().split())\n",
    "arr = input()\n",
    "\n",
    "arr = arr.split()\n",
    "\n",
    "for _ in arr:\n",
    "    print(int(_)-l*p, end=\" \")"
   ]
  },
  {
   "cell_type": "markdown",
   "metadata": {},
   "source": [
    "## 백준 9653 스타워즈"
   ]
  },
  {
   "cell_type": "code",
   "execution_count": 1,
   "metadata": {},
   "outputs": [
    {
     "name": "stdout",
     "output_type": "stream",
     "text": [
      "    8888888888  888    88888\n",
      "   88     88   88 88   88  88\n",
      "    8888  88  88   88  88888\n",
      "       88 88 888888888 88   88\n",
      "88888888  88 88     88 88    888888\n",
      "\n",
      "88  88  88   888    88888    888888\n",
      "88  88  88  88 88   88  88  88\n",
      "88 8888 88 88   88  88888    8888\n",
      " 888  888 888888888 88  88      88\n",
      "  88  88  88     88 88   88888888\n"
     ]
    }
   ],
   "source": [
    "print(\"    8888888888  888    88888\")\n",
    "print(\"   88     88   88 88   88  88\")\n",
    "print(\"    8888  88  88   88  88888\")\n",
    "print(\"       88 88 888888888 88   88\")\n",
    "print(\"88888888  88 88     88 88    888888\")\n",
    "print(\"\")\n",
    "print(\"88  88  88   888    88888    888888\")\n",
    "print(\"88  88  88  88 88   88  88  88\")\n",
    "print(\"88 8888 88 88   88  88888    8888\")\n",
    "print(\" 888  888 888888888 88  88      88\")\n",
    "print(\"  88  88  88     88 88   88888888\")"
   ]
  },
  {
   "cell_type": "markdown",
   "metadata": {},
   "source": [
    "## 백준 3003 킹, 퀸, 룩, 비숍, 나이트, 폰"
   ]
  },
  {
   "cell_type": "code",
   "execution_count": 14,
   "metadata": {},
   "outputs": [
    {
     "name": "stdout",
     "output_type": "stream",
     "text": [
      "-1 0 0 1 0 7\n"
     ]
    }
   ],
   "source": [
    "piece = {\"king\":1, \"queen\":1, \"rook\":2, \"bishop\":2, \"knight\":2, \"pawn\": 8}\n",
    "\n",
    "k, q, r, b, kn, p = map(int, input().split())\n",
    "\n",
    "print(piece[\"king\"]-k, piece[\"queen\"]-q, piece[\"rook\"]-r, piece[\"bishop\"]-b, piece[\"knight\"]-kn, piece[\"pawn\"]-p)"
   ]
  },
  {
   "cell_type": "markdown",
   "metadata": {},
   "source": [
    "## 백준 5339 콜센터"
   ]
  },
  {
   "cell_type": "code",
   "execution_count": 4,
   "metadata": {},
   "outputs": [
    {
     "name": "stdout",
     "output_type": "stream",
     "text": [
      "     /~\\\n",
      "    ( oo|\n",
      "    _\\=/_\n",
      "   /  _  \\\n",
      "  //|/.\\|\\\\\n",
      " ||  \\ /  ||\n",
      "============\n",
      "|          |\n",
      "|          |\n",
      "|          |\n"
     ]
    }
   ],
   "source": [
    "print(\"     /~\\\\\")\n",
    "print(\"    ( oo|\")\n",
    "print(\"    _\\=/_\")\n",
    "print(\"   /  _  \\\\\")\n",
    "print(\"  //|/.\\|\\\\\\\\\")\n",
    "print(\" ||  \\ /  ||\")\n",
    "print(\"============\")\n",
    "print(\"|          |\")\n",
    "print(\"|          |\")\n",
    "print(\"|          |\")"
   ]
  },
  {
   "cell_type": "markdown",
   "metadata": {},
   "source": [
    "## 백준 1271 엄청난 부자2"
   ]
  },
  {
   "cell_type": "code",
   "execution_count": 5,
   "metadata": {},
   "outputs": [
    {
     "name": "stdout",
     "output_type": "stream",
     "text": [
      "10\n",
      "0\n"
     ]
    }
   ],
   "source": [
    "n, m = map(int, input().split())\n",
    "print(n//m)\n",
    "print(n%m)"
   ]
  },
  {
   "cell_type": "markdown",
   "metadata": {},
   "source": [
    "## 백준 5554 심부름 가는 길"
   ]
  },
  {
   "cell_type": "code",
   "execution_count": 7,
   "metadata": {},
   "outputs": [
    {
     "name": "stdout",
     "output_type": "stream",
     "text": [
      "44\n",
      "2\n"
     ]
    }
   ],
   "source": [
    "hTs = int(input()) # 집 -> 학교\n",
    "sTp = int(input()) # 학교 -> pc방\n",
    "pTa = int(input()) # pc방 -> 학원\n",
    "aTh = int(input()) # 학원 -> 집\n",
    "\n",
    "total = hTs + sTp + pTa + aTh\n",
    "\n",
    "print(total//60)\n",
    "print(total%60)"
   ]
  },
  {
   "cell_type": "markdown",
   "metadata": {},
   "source": [
    "## 백준 5522 카드 게임"
   ]
  },
  {
   "cell_type": "code",
   "execution_count": 9,
   "metadata": {},
   "outputs": [
    {
     "name": "stdout",
     "output_type": "stream",
     "text": [
      "210\n"
     ]
    }
   ],
   "source": [
    "total = 0\n",
    "\n",
    "for _ in range(5):\n",
    "    total += int(input())\n",
    "\n",
    "print(total)"
   ]
  },
  {
   "cell_type": "markdown",
   "metadata": {},
   "source": [
    "## 백준 9654 나부 함대 데이터"
   ]
  },
  {
   "cell_type": "code",
   "execution_count": 10,
   "metadata": {},
   "outputs": [
    {
     "name": "stdout",
     "output_type": "stream",
     "text": [
      "SHIP NAME      CLASS          DEPLOYMENT IN SERVICE\n",
      "N2 Bomber      Heavy Fighter  Limited    21        \n",
      "J-Type 327     Light Combat   Unlimited  1         \n",
      "NX Cruiser     Medium Fighter Limited    18        \n",
      "N1 Starfighter Medium Fighter Unlimited  25        \n",
      "Royal Cruiser  Light Combat   Limited    4         \n"
     ]
    }
   ],
   "source": [
    "print(\"SHIP NAME      CLASS          DEPLOYMENT IN SERVICE\")\n",
    "print(\"N2 Bomber      Heavy Fighter  Limited    21        \")\n",
    "print(\"J-Type 327     Light Combat   Unlimited  1         \")\n",
    "print(\"NX Cruiser     Medium Fighter Limited    18        \")\n",
    "print(\"N1 Starfighter Medium Fighter Unlimited  25        \")\n",
    "print(\"Royal Cruiser  Light Combat   Limited    4         \")"
   ]
  },
  {
   "cell_type": "markdown",
   "metadata": {},
   "source": [
    "## 백준 10170 NFC West vs North"
   ]
  },
  {
   "cell_type": "code",
   "execution_count": 11,
   "metadata": {},
   "outputs": [
    {
     "name": "stdout",
     "output_type": "stream",
     "text": [
      "NFC West       W   L  T\n",
      "-----------------------\n",
      "Seattle        13  3  0\n",
      "San Francisco  12  4  0\n",
      "Arizona        10  6  0\n",
      "St. Louis      7   9  0\n",
      "\n",
      "NFC North      W   L  T\n",
      "-----------------------\n",
      "Green Bay      8   7  1\n",
      "Chicago        8   8  0\n",
      "Detroit        7   9  0\n",
      "Minnesota      5  10  1\n"
     ]
    }
   ],
   "source": [
    "print(\"NFC West       W   L  T\")\n",
    "print(\"-----------------------\")\n",
    "print(\"Seattle        13  3  0\")\n",
    "print(\"San Francisco  12  4  0\")\n",
    "print(\"Arizona        10  6  0\")\n",
    "print(\"St. Louis      7   9  0\")\n",
    "print(\"\")\n",
    "print(\"NFC North      W   L  T\")\n",
    "print(\"-----------------------\")\n",
    "print(\"Green Bay      8   7  1\")\n",
    "print(\"Chicago        8   8  0\")\n",
    "print(\"Detroit        7   9  0\")\n",
    "print(\"Minnesota      5  10  1\")"
   ]
  },
  {
   "cell_type": "markdown",
   "metadata": {},
   "source": [
    "## 백준 2338 긴자리 계산"
   ]
  },
  {
   "cell_type": "code",
   "execution_count": 13,
   "metadata": {},
   "outputs": [
    {
     "name": "stdout",
     "output_type": "stream",
     "text": [
      "0\n",
      "2\n",
      "-1\n"
     ]
    }
   ],
   "source": [
    "a = int(input())\n",
    "b = int(input())\n",
    "print(a+b)\n",
    "print(a-b)\n",
    "print(a*b)"
   ]
  },
  {
   "cell_type": "markdown",
   "metadata": {},
   "source": [
    "## 백준 14645 와이버스 부릉부릉"
   ]
  },
  {
   "cell_type": "code",
   "execution_count": 14,
   "metadata": {},
   "outputs": [
    {
     "name": "stdout",
     "output_type": "stream",
     "text": [
      "비와이\n"
     ]
    }
   ],
   "source": [
    "n, k = map(int, input().split())\n",
    "print(\"비와이\")"
   ]
  },
  {
   "cell_type": "markdown",
   "metadata": {},
   "source": [
    "## 백준 16394 홍익대학교"
   ]
  },
  {
   "cell_type": "code",
   "execution_count": 15,
   "metadata": {},
   "outputs": [
    {
     "name": "stdout",
     "output_type": "stream",
     "text": [
      "72\n"
     ]
    }
   ],
   "source": [
    "n = int(input())\n",
    "print(n-1946)"
   ]
  },
  {
   "cell_type": "markdown",
   "metadata": {},
   "source": [
    "## 백준 15894 수학은 체육과목 입니다"
   ]
  },
  {
   "cell_type": "code",
   "execution_count": 20,
   "metadata": {},
   "outputs": [
    {
     "name": "stdout",
     "output_type": "stream",
     "text": [
      "20\n"
     ]
    }
   ],
   "source": [
    "n = int(input())\n",
    "\n",
    "print(n*4)"
   ]
  },
  {
   "cell_type": "markdown",
   "metadata": {},
   "source": [
    "# 백준 16430 제리와 톰"
   ]
  },
  {
   "cell_type": "code",
   "execution_count": 1,
   "metadata": {},
   "outputs": [
    {
     "name": "stdout",
     "output_type": "stream",
     "text": [
      "5 7\n"
     ]
    }
   ],
   "source": [
    "a, b = map(int, input().split())\n",
    "print(b-a, b)"
   ]
  },
  {
   "cell_type": "markdown",
   "metadata": {},
   "source": [
    "# 백준 15964 이상한 기호"
   ]
  },
  {
   "cell_type": "code",
   "execution_count": 2,
   "metadata": {},
   "outputs": [
    {
     "name": "stdout",
     "output_type": "stream",
     "text": [
      "7\n"
     ]
    }
   ],
   "source": [
    "a, b = map(int, input().split())\n",
    "print((a+b)*(a-b))"
   ]
  },
  {
   "cell_type": "markdown",
   "metadata": {},
   "source": [
    "# 백준 15727 조별과제를 하려는데 조장이 사라졌다"
   ]
  },
  {
   "cell_type": "code",
   "execution_count": 5,
   "metadata": {},
   "outputs": [
    {
     "name": "stdout",
     "output_type": "stream",
     "text": [
      "3\n"
     ]
    }
   ],
   "source": [
    "n = int(input())\n",
    "if n%5==0:\n",
    "    print(n//5)\n",
    "else:\n",
    "    print(int(n/5)+1)"
   ]
  },
  {
   "cell_type": "markdown",
   "metadata": {},
   "source": [
    "# 백준 14652 나는 행복합니다~"
   ]
  },
  {
   "cell_type": "code",
   "execution_count": 1,
   "metadata": {},
   "outputs": [
    {
     "name": "stdout",
     "output_type": "stream",
     "text": [
      "1 2\n"
     ]
    }
   ],
   "source": [
    "N, M, K = map(int, input().split())\n",
    "n = K // M\n",
    "m = K % M\n",
    "print(n, m)"
   ]
  },
  {
   "cell_type": "markdown",
   "metadata": {},
   "source": [
    "# 백준 20492 세금"
   ]
  },
  {
   "cell_type": "code",
   "execution_count": 6,
   "metadata": {},
   "outputs": [
    {
     "name": "stdout",
     "output_type": "stream",
     "text": [
      "780 956\n"
     ]
    }
   ],
   "source": [
    "n = int(input())\n",
    "print(int(n*0.78), int(n-n*0.2*0.22))"
   ]
  },
  {
   "cell_type": "markdown",
   "metadata": {},
   "source": [
    "# 백준 17256 달달함이 넘쳐흘러"
   ]
  },
  {
   "cell_type": "code",
   "execution_count": 10,
   "metadata": {},
   "outputs": [
    {
     "name": "stdout",
     "output_type": "stream",
     "text": [
      "7 1 7\n"
     ]
    }
   ],
   "source": [
    "ax, ay, az = map(int, input().split())\n",
    "cx, cy, cz = map(int, input().split())\n",
    "\n",
    "bx = int(cx-az)\n",
    "by = int(cy/ay)\n",
    "bz = int(cz-ax)\n",
    "\n",
    "print(bx, by, bz)\n"
   ]
  },
  {
   "cell_type": "markdown",
   "metadata": {},
   "source": [
    "# 백준 17496 스타후르츠"
   ]
  },
  {
   "cell_type": "code",
   "execution_count": 12,
   "metadata": {},
   "outputs": [
    {
     "name": "stdout",
     "output_type": "stream",
     "text": [
      "1500000\n"
     ]
    }
   ],
   "source": [
    "N, T, C, P = map(int, input().split())\n",
    "print((N-1)//T*C*P)"
   ]
  },
  {
   "cell_type": "markdown",
   "metadata": {},
   "source": [
    "# 백준 14928 큰 수 (BIG)"
   ]
  },
  {
   "cell_type": "code",
   "execution_count": 14,
   "metadata": {},
   "outputs": [
    {
     "name": "stdout",
     "output_type": "stream",
     "text": [
      "1313652\n"
     ]
    }
   ],
   "source": [
    "n = int(input())\n",
    "print(n%20000303)"
   ]
  },
  {
   "cell_type": "markdown",
   "metadata": {},
   "source": [
    "# 백준 11283 한글2"
   ]
  },
  {
   "cell_type": "code",
   "execution_count": 15,
   "metadata": {},
   "outputs": [
    {
     "name": "stdout",
     "output_type": "stream",
     "text": [
      "1\n"
     ]
    }
   ],
   "source": [
    "print(ord(input())-44031)"
   ]
  },
  {
   "cell_type": "markdown",
   "metadata": {},
   "source": [
    "# 백준 24262 알고리즘 수업 - 알고리즘의 수행 시간 1"
   ]
  },
  {
   "cell_type": "code",
   "execution_count": 18,
   "metadata": {},
   "outputs": [
    {
     "name": "stdout",
     "output_type": "stream",
     "text": [
      "1\n",
      "0\n"
     ]
    }
   ],
   "source": [
    "n = int(input())\n",
    "print(1)\n",
    "print(0)"
   ]
  },
  {
   "cell_type": "markdown",
   "metadata": {},
   "source": [
    "# 백준 10872 팩토리얼"
   ]
  },
  {
   "cell_type": "code",
   "execution_count": 2,
   "metadata": {},
   "outputs": [
    {
     "name": "stdout",
     "output_type": "stream",
     "text": [
      "3628800\n"
     ]
    }
   ],
   "source": [
    "n = int(input())\n",
    "\n",
    "if n==0:\n",
    "    print(1)\n",
    "else:\n",
    "    s = 1\n",
    "    for _ in range(1, n+1):\n",
    "        s *= _\n",
    "    print(s) "
   ]
  },
  {
   "cell_type": "markdown",
   "metadata": {},
   "source": [
    "# 백준 10870 피보나치 수 5"
   ]
  },
  {
   "cell_type": "code",
   "execution_count": 4,
   "metadata": {},
   "outputs": [
    {
     "name": "stdout",
     "output_type": "stream",
     "text": [
      "55\n"
     ]
    }
   ],
   "source": [
    "n = int(input())\n",
    "\n",
    "def fibo(n):\n",
    "    if n==0:\n",
    "        return 0\n",
    "    elif n==1:\n",
    "        return 1\n",
    "    else:\n",
    "        return fibo(n-1)+fibo(n-2)\n",
    "    \n",
    "print(fibo(n))"
   ]
  },
  {
   "cell_type": "markdown",
   "metadata": {},
   "source": [
    "# 백준 2743 단어 길이 재기"
   ]
  },
  {
   "cell_type": "code",
   "execution_count": 5,
   "metadata": {},
   "outputs": [
    {
     "name": "stdout",
     "output_type": "stream",
     "text": [
      "8\n"
     ]
    }
   ],
   "source": [
    "n = input()\n",
    "\n",
    "print(len(n))"
   ]
  },
  {
   "cell_type": "markdown",
   "metadata": {},
   "source": [
    "# 백준 10807 개수 세기"
   ]
  },
  {
   "cell_type": "code",
   "execution_count": 14,
   "metadata": {},
   "outputs": [
    {
     "name": "stdout",
     "output_type": "stream",
     "text": [
      "0\n"
     ]
    }
   ],
   "source": [
    "n = int(input())\n",
    "seq = list(map(int, input().split()))\n",
    "idx = int(input())\n",
    "\n",
    "print(seq.count(idx))"
   ]
  },
  {
   "cell_type": "markdown",
   "metadata": {},
   "source": [
    "# 백준 4101 크냐?"
   ]
  },
  {
   "cell_type": "code",
   "execution_count": 15,
   "metadata": {},
   "outputs": [
    {
     "name": "stdout",
     "output_type": "stream",
     "text": [
      "No\n",
      "No\n",
      "Yes\n"
     ]
    }
   ],
   "source": [
    "while 1:\n",
    "    n1, n2 = map(int, input().split())\n",
    "    if n1==0 and n2==0:\n",
    "        break\n",
    "    else:\n",
    "        if n1>n2:\n",
    "            print(\"Yes\")\n",
    "        else:\n",
    "            print(\"No\")"
   ]
  },
  {
   "cell_type": "markdown",
   "metadata": {},
   "source": [
    "# 백준 5597 과제 안 내신 분..?"
   ]
  },
  {
   "cell_type": "code",
   "execution_count": 26,
   "metadata": {},
   "outputs": [
    {
     "name": "stdout",
     "output_type": "stream",
     "text": [
      "8\n",
      "2\n"
     ]
    }
   ],
   "source": [
    "total = [x for x in range(1, 31)]\n",
    "submit = []\n",
    "\n",
    "for _ in range(28):\n",
    "    submit.append(int(input()))\n",
    "    \n",
    "result = sorted(list(set(total)-set(submit)))\n",
    "print(result[0])\n",
    "print(result[1])    "
   ]
  },
  {
   "cell_type": "markdown",
   "metadata": {},
   "source": [
    "# 백준 2744 대소문자 바꾸기"
   ]
  },
  {
   "cell_type": "code",
   "execution_count": 27,
   "metadata": {},
   "outputs": [
    {
     "name": "stdout",
     "output_type": "stream",
     "text": [
      "wRONGaNSWER"
     ]
    }
   ],
   "source": [
    "n = input()\n",
    "\n",
    "for _ in n:\n",
    "    if _.isupper():\n",
    "        print(_.lower(), end=\"\")\n",
    "    else:\n",
    "        print(_.upper(), end=\"\")"
   ]
  },
  {
   "cell_type": "markdown",
   "metadata": {},
   "source": [
    "# 백준 2754 학점 계산"
   ]
  },
  {
   "cell_type": "code",
   "execution_count": 29,
   "metadata": {},
   "outputs": [
    {
     "name": "stdout",
     "output_type": "stream",
     "text": [
      "4.0\n"
     ]
    }
   ],
   "source": [
    "score = {'A+': 4.3, 'A0': 4.0, 'A-': 3.7, 'B+': 3.3, 'B0': 3.0, 'B-': 2.7, 'C+': 2.3, 'C0': 2.0, 'C-': 1.7, 'D+': 1.3, 'D0': 1.0, 'D-': 0.7, 'F': 0.0}\n",
    "s = input()\n",
    "print(score[s])"
   ]
  },
  {
   "cell_type": "markdown",
   "metadata": {},
   "source": [
    "# 백준 4999 아!"
   ]
  },
  {
   "cell_type": "code",
   "execution_count": 30,
   "metadata": {},
   "outputs": [
    {
     "name": "stdout",
     "output_type": "stream",
     "text": [
      "no\n"
     ]
    }
   ],
   "source": [
    "n1 = input()\n",
    "n2 = input()\n",
    "\n",
    "if len(n1)>=len(n2):\n",
    "    print(\"go\")\n",
    "else:\n",
    "    print(\"no\")"
   ]
  },
  {
   "cell_type": "markdown",
   "metadata": {},
   "source": [
    "# 백준 9086 문자열"
   ]
  },
  {
   "cell_type": "code",
   "execution_count": 32,
   "metadata": {},
   "outputs": [
    {
     "name": "stdout",
     "output_type": "stream",
     "text": [
      "AD\n",
      "OO\n",
      "AB\n"
     ]
    }
   ],
   "source": [
    "n = int(input())\n",
    "\n",
    "for _ in range(n):\n",
    "    s = input()\n",
    "    print(s[0], s[-1], sep=\"\")"
   ]
  },
  {
   "cell_type": "markdown",
   "metadata": {},
   "source": [
    "# 백준 2738 행렬 덧셈"
   ]
  },
  {
   "cell_type": "code",
   "execution_count": 48,
   "metadata": {},
   "outputs": [
    {
     "name": "stdout",
     "output_type": "stream",
     "text": [
      "4 4 4 \n",
      "6 6 6 \n",
      "5 6 100 \n"
     ]
    }
   ],
   "source": [
    "n, m = map(int, input().split())\n",
    "a = []\n",
    "\n",
    "for _ in range(n):\n",
    "    a.append(list(map(int, input().split())))\n",
    "\n",
    "for _ in range(n):\n",
    "    temp = list(map(int, input().split()))\n",
    "    for idx in range(m):\n",
    "        a[_][idx] += temp[idx]\n",
    "\n",
    "for i in range(n):\n",
    "    for j in range(m):\n",
    "        print(a[i][j], end=\" \")\n",
    "    print()"
   ]
  },
  {
   "cell_type": "markdown",
   "metadata": {},
   "source": [
    "# 백준 23037 5의 수난"
   ]
  },
  {
   "cell_type": "code",
   "execution_count": 2,
   "metadata": {},
   "outputs": [
    {
     "name": "stdout",
     "output_type": "stream",
     "text": [
      "54748\n"
     ]
    }
   ],
   "source": [
    "n = input()\n",
    "s = 0\n",
    "for _ in range(5):\n",
    "    s += pow(int(n[_]), 5)\n",
    "    \n",
    "print(s)"
   ]
  }
 ],
 "metadata": {
  "interpreter": {
   "hash": "ca7051211f7d0cb84f9a5276aced427e23f2f109de898d0e63a1c129a12d67d5"
  },
  "kernelspec": {
   "display_name": "Python 3.9.12 64-bit",
   "language": "python",
   "name": "python3"
  },
  "language_info": {
   "codemirror_mode": {
    "name": "ipython",
    "version": 3
   },
   "file_extension": ".py",
   "mimetype": "text/x-python",
   "name": "python",
   "nbconvert_exporter": "python",
   "pygments_lexer": "ipython3",
   "version": "3.9.12"
  },
  "orig_nbformat": 4
 },
 "nbformat": 4,
 "nbformat_minor": 2
}
