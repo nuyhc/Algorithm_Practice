{
 "cells": [
  {
   "cell_type": "markdown",
   "metadata": {},
   "source": [
    "# 백준 2581 소수\n",
    "## 문제\n",
    "자연수 M과 N이 주어질 때 M이상 N이하의 자연수 중 소수인 것을 모두 골라 이들 소수의 합과 최솟값을 찾는 프로그램을 작성하시오.\n",
    "\n",
    "예를 들어 M=60, N=100인 경우 60이상 100이하의 자연수 중 소수는 61, 67, 71, 73, 79, 83, 89, 97 총 8개가 있으므로, 이들 소수의 합은 620이고, 최솟값은 61이 된다.\n",
    "## 입력\n",
    "입력의 첫째 줄에 M이, 둘째 줄에 N이 주어진다.\n",
    "\n",
    "M과 N은 10,000이하의 자연수이며, M은 N보다 작거나 같다.\n",
    "## 출력\n",
    "M이상 N이하의 자연수 중 소수인 것을 모두 찾아 첫째 줄에 그 합을, 둘째 줄에 그 중 최솟값을 출력한다. \n",
    "\n",
    "단, M이상 N이하의 자연수 중 소수가 없을 경우는 첫째 줄에 -1을 출력한다.\n",
    "## 분석\n",
    "가장 기본적인 접근 방법은 2부터 자기자신 이전까지 모두 나눠보며 판별하는 방법이다. 이 방법은 당연히 O(n)이다.  \n",
    "소수를 구하기 위해서는 해당 숫자의 절반까지만 계산해도 되는데, 이것도 결국엔 상수항은 무시되기 때문에 O(n)이다.  \n",
    "$\\sqrt{N}$까지만 확인하는 방법도 있는데, 약수들의 곱으로 봤을때 $\\sqrt{N}$ 값이 중앙값이기 때문에, 이후에는 검사할 필요가 없다고 한다.  \n",
    "이 방법은 O($\\sqrt{N}$)이다."
   ]
  },
  {
   "cell_type": "code",
   "execution_count": 9,
   "metadata": {},
   "outputs": [
    {
     "name": "stdout",
     "output_type": "stream",
     "text": [
      "620\n",
      "61\n"
     ]
    }
   ],
   "source": [
    "m = int(input())\n",
    "n = int(input())\n",
    "prime = []\n",
    "\n",
    "def isPrime(num):\n",
    "    for _ in range(2, num): # range(2, int(num)/2)\n",
    "        if num%_==0: return False\n",
    "    return True\n",
    "\n",
    "for _ in range(m, n+1):\n",
    "    if isPrime(_): prime.append(_)\n",
    "\n",
    "if len(prime)==0: print(-1)\n",
    "else:\n",
    "    print(sum(prime))\n",
    "    print(min(prime))"
   ]
  },
  {
   "cell_type": "code",
   "execution_count": 11,
   "metadata": {},
   "outputs": [
    {
     "name": "stdout",
     "output_type": "stream",
     "text": [
      "620\n",
      "61\n"
     ]
    }
   ],
   "source": [
    "m = int(input())\n",
    "n = int(input())\n",
    "prime = []\n",
    "\n",
    "for _ in range(m, n+1):\n",
    "    if _==1:\n",
    "        pass\n",
    "    elif _==2:\n",
    "        prime.append(_)\n",
    "    else:\n",
    "        for j in range(2, _):\n",
    "            if _%j==0: break\n",
    "            elif j==_-1: prime.append(_)\n",
    "\n",
    "if len(prime)==0: print(-1)\n",
    "else:\n",
    "    print(sum(prime))\n",
    "    print(min(prime))"
   ]
  },
  {
   "cell_type": "markdown",
   "metadata": {},
   "source": [
    "소수 판별 부분을 함수로 만든건 틀렸다고 그러고, 풀어서 적으면 정답처리가 된다.."
   ]
  },
  {
   "cell_type": "code",
   "execution_count": 17,
   "metadata": {},
   "outputs": [
    {
     "name": "stdout",
     "output_type": "stream",
     "text": [
      "620\n",
      "61\n"
     ]
    }
   ],
   "source": [
    "m = int(input())\n",
    "n = int(input())\n",
    "prime = []\n",
    "\n",
    "def isPrime(num):\n",
    "    global _\n",
    "    for _ in range(2, num+1):\n",
    "        if _**2>=num: continue\n",
    "        if num%_==0: return False\n",
    "    return True\n",
    "        \n",
    "\n",
    "for _ in range(m, n+1):\n",
    "    if isPrime(_): prime.append(_)\n",
    "\n",
    "if len(prime)==0: print(-1)\n",
    "else:\n",
    "    print(sum(prime))\n",
    "    print(min(prime))"
   ]
  },
  {
   "cell_type": "markdown",
   "metadata": {},
   "source": [
    "마지막 방법도 구현하기했는데, 이것도 함수라 백준에 제출해보지는 않았다.."
   ]
  }
 ],
 "metadata": {
  "interpreter": {
   "hash": "ca7051211f7d0cb84f9a5276aced427e23f2f109de898d0e63a1c129a12d67d5"
  },
  "kernelspec": {
   "display_name": "Python 3.9.12 64-bit",
   "language": "python",
   "name": "python3"
  },
  "language_info": {
   "codemirror_mode": {
    "name": "ipython",
    "version": 3
   },
   "file_extension": ".py",
   "mimetype": "text/x-python",
   "name": "python",
   "nbconvert_exporter": "python",
   "pygments_lexer": "ipython3",
   "version": "3.9.12"
  },
  "orig_nbformat": 4
 },
 "nbformat": 4,
 "nbformat_minor": 2
}
