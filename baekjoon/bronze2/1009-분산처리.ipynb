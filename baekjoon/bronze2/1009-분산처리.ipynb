{
 "cells": [
  {
   "cell_type": "markdown",
   "metadata": {},
   "source": [
    "# 백준 1009 분산처리\n",
    "## 문제\n",
    "재용이는 최신 컴퓨터 10대를 가지고 있다. 어느 날 재용이는 많은 데이터를 처리해야 될 일이 생겨서 각 컴퓨터에 1번부터 10번까지의 번호를 부여하고, 10대의 컴퓨터가 다음과 같은 방법으로 데이터들을 처리하기로 하였다.  \n",
    "1번 데이터는 1번 컴퓨터, 2번 데이터는 2번 컴퓨터, 3번 데이터는 3번 컴퓨터, ... ,  \n",
    "10번 데이터는 10번 컴퓨터, 11번 데이터는 1번 컴퓨터, 12번 데이터는 2번 컴퓨터, ...  \n",
    "총 데이터의 개수는 항상 ab개의 형태로 주어진다. 재용이는 문득 마지막 데이터가 처리될 컴퓨터의 번호가 궁금해졌다. 이를 수행해주는 프로그램을 작성하라.\n",
    "## 입력\n",
    "입력의 첫 줄에는 테스트 케이스의 개수 T가 주어진다. 그 다음 줄부터 각각의 테스트 케이스에 대해 정수 a와 b가 주어진다. (1 ≤ a < 100, 1 ≤ b < 1,000,000)\n",
    "## 출력\n",
    "각 테스트 케이스에 대해 마지막 데이터가 처리되는 컴퓨터의 번호를 출력한다.\n",
    "## 예시\n",
    "- 입력\n",
    "```\n",
    "5  \n",
    "1 6  \n",
    "3 7  \n",
    "6 2  \n",
    "7 100  \n",
    "9 635\n",
    "```\n",
    "- 출력\n",
    "```\n",
    "1\n",
    "7\n",
    "6\n",
    "1\n",
    "9\n",
    "```\n",
    "## 분석\n",
    "문제를 맨처음에 봤을땐, 이해가 잘되지 않았다.  \n",
    "**마지막 데이터가 처리될 컴퓨터의 번호**인걸 보면, 전체 데이터수를 구해서 마지막 데이터가 처리되는 번호를 구하면된다.   \n",
    "맨처음에 작성한 코드는 시간 초과가 발생했다.  "
   ]
  },
  {
   "cell_type": "code",
   "execution_count": 4,
   "metadata": {},
   "outputs": [
    {
     "name": "stdout",
     "output_type": "stream",
     "text": [
      "1\n",
      "7\n",
      "6\n",
      "1\n",
      "9\n"
     ]
    }
   ],
   "source": [
    "data =[]\n",
    "\n",
    "n = int(input())\n",
    "for _ in range(n):\n",
    "    a, b = map(int, input().split())\n",
    "    data.append(pow(a,b))\n",
    "\n",
    "for _ in range(n):\n",
    "    print(data[_]%10)"
   ]
  },
  {
   "cell_type": "markdown",
   "metadata": {},
   "source": [
    "시간 초과가 발생하는 이유가 a^b 형태의 계산때문인거 같아서, 그냥 1의 자리만 구하면 될꺼 같았다.  \n",
    "a^b는 결국 a의 배수가 4주기 단위로 반복된다는 사실을 이용했다.  \n",
    "\n",
    "처음에는 패턴을 리스트 하나에 저장해서 인덱스로 접근해 출력하는 방식을 사용했는데 이것도 틀렸다해서, 4주기 패턴 별로 숫자를 나누어 산출하는 방식으로 코드를 짰는데 저것도 틀렸다고 한다.."
   ]
  },
  {
   "cell_type": "code",
   "execution_count": 41,
   "metadata": {},
   "outputs": [
    {
     "name": "stdout",
     "output_type": "stream",
     "text": [
      "1\n",
      "7\n",
      "6\n",
      "1\n",
      "9\n"
     ]
    }
   ],
   "source": [
    "data =[]\n",
    "\n",
    "n = int(input())\n",
    "for _ in range(n):\n",
    "    a, b = map(int, input().split())\n",
    "    if a%10 in [1, 5, 6]:\n",
    "        data.append(a%10)\n",
    "    elif a%10 in [4, 9]:\n",
    "        if b%2==0: data.append(a**2%10)\n",
    "        else: data.append(a)\n",
    "    else: \n",
    "        if b%4==0: data.append(a**4%10)\n",
    "        else: data.append(a**(b%4)%10)\n",
    "\n",
    "for _ in data:\n",
    "    print(_)"
   ]
  },
  {
   "cell_type": "markdown",
   "metadata": {},
   "source": [
    "결국엔 그냥 직관적으로 풀었다..  \n",
    "매번 백준을 풀때마다 느끼는건 약간 문제가 엄격하다?더럽다?인거 같다"
   ]
  },
  {
   "cell_type": "code",
   "execution_count": 43,
   "metadata": {},
   "outputs": [
    {
     "name": "stdout",
     "output_type": "stream",
     "text": [
      "1\n",
      "7\n",
      "6\n",
      "1\n",
      "9\n"
     ]
    }
   ],
   "source": [
    "n = int(input())\n",
    "\n",
    "for _ in range(n):\n",
    "\ta,b = map(int, input().split())\n",
    "\tbase=a%10\n",
    "\n",
    "\tif base == 0:\n",
    "\t\tprint(10)\n",
    "\telif base in [1,5,6]: \n",
    "\t\tprint(base)\n",
    "\telif base in [4,9]: \n",
    "\t\tp=b%2\n",
    "\t\tif p == 0: print(base*base%10)\n",
    "\t\telse: print(base)\n",
    "\telse: \n",
    "\t\tp=b%4  \n",
    "\t\tif p ==0: print(base**4%10)\n",
    "\t\telse: print(base**p%10)"
   ]
  }
 ],
 "metadata": {
  "interpreter": {
   "hash": "ca7051211f7d0cb84f9a5276aced427e23f2f109de898d0e63a1c129a12d67d5"
  },
  "kernelspec": {
   "display_name": "Python 3.9.12 64-bit",
   "language": "python",
   "name": "python3"
  },
  "language_info": {
   "codemirror_mode": {
    "name": "ipython",
    "version": 3
   },
   "file_extension": ".py",
   "mimetype": "text/x-python",
   "name": "python",
   "nbconvert_exporter": "python",
   "pygments_lexer": "ipython3",
   "version": "3.9.12"
  },
  "orig_nbformat": 4
 },
 "nbformat": 4,
 "nbformat_minor": 2
}
