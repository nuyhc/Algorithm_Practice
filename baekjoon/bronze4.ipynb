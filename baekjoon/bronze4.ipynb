{
 "cells": [
  {
   "cell_type": "markdown",
   "metadata": {},
   "source": [
    "# 백준 2752 세수 정렬"
   ]
  },
  {
   "cell_type": "code",
   "execution_count": 10,
   "metadata": {},
   "outputs": [
    {
     "name": "stdout",
     "output_type": "stream",
     "text": [
      "1 2 3 "
     ]
    }
   ],
   "source": [
    "a, b, c = map(int, input().split())\n",
    "\n",
    "l = [a, b, c]\n",
    "\n",
    "for _ in sorted(l):\n",
    "    print(_, end=\" \")"
   ]
  },
  {
   "cell_type": "markdown",
   "metadata": {},
   "source": [
    "# 백준 10797 10부제"
   ]
  },
  {
   "cell_type": "code",
   "execution_count": 2,
   "metadata": {},
   "outputs": [
    {
     "name": "stdout",
     "output_type": "stream",
     "text": [
      "2\n"
     ]
    }
   ],
   "source": [
    "n = int(input())\n",
    "l = map(int, input().split())\n",
    "cnt = 0\n",
    "for _ in l:\n",
    "    if _==n: cnt += 1\n",
    "    \n",
    "print(cnt)"
   ]
  },
  {
   "cell_type": "markdown",
   "metadata": {},
   "source": [
    "# 백준 2530 인공지능 시계"
   ]
  },
  {
   "cell_type": "code",
   "execution_count": 1,
   "metadata": {},
   "outputs": [
    {
     "name": "stdout",
     "output_type": "stream",
     "text": [
      "14 33 20\n"
     ]
    }
   ],
   "source": [
    "H, M, S = map(int, input().split())\n",
    "D = int(input()) \n",
    "\n",
    "S += D % 60\n",
    "D = D // 60\n",
    "if S >= 60:\n",
    "    S -= 60\n",
    "    M += 1\n",
    "\n",
    "M += D % 60\n",
    "D = D // 60\n",
    "if M >= 60:\n",
    "    M -= 60\n",
    "    H += 1\n",
    "\n",
    "H += D % 24\n",
    "if H >= 24:\n",
    "    H -= 24\n",
    "\n",
    "print(H,M,S)"
   ]
  }
 ],
 "metadata": {
  "interpreter": {
   "hash": "ca7051211f7d0cb84f9a5276aced427e23f2f109de898d0e63a1c129a12d67d5"
  },
  "kernelspec": {
   "display_name": "Python 3.9.12 64-bit",
   "language": "python",
   "name": "python3"
  },
  "language_info": {
   "codemirror_mode": {
    "name": "ipython",
    "version": 3
   },
   "file_extension": ".py",
   "mimetype": "text/x-python",
   "name": "python",
   "nbconvert_exporter": "python",
   "pygments_lexer": "ipython3",
   "version": "3.9.12"
  },
  "orig_nbformat": 4
 },
 "nbformat": 4,
 "nbformat_minor": 2
}
