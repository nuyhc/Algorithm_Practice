{
 "cells": [
  {
   "cell_type": "markdown",
   "metadata": {},
   "source": [
    "# 백준 2752 세수 정렬"
   ]
  },
  {
   "cell_type": "code",
   "execution_count": 10,
   "metadata": {},
   "outputs": [
    {
     "name": "stdout",
     "output_type": "stream",
     "text": [
      "1 2 3 "
     ]
    }
   ],
   "source": [
    "a, b, c = map(int, input().split())\n",
    "\n",
    "l = [a, b, c]\n",
    "\n",
    "for _ in sorted(l):\n",
    "    print(_, end=\" \")"
   ]
  },
  {
   "cell_type": "markdown",
   "metadata": {},
   "source": [
    "# 백준 10797 10부제"
   ]
  },
  {
   "cell_type": "code",
   "execution_count": 2,
   "metadata": {},
   "outputs": [
    {
     "name": "stdout",
     "output_type": "stream",
     "text": [
      "2\n"
     ]
    }
   ],
   "source": [
    "n = int(input())\n",
    "l = map(int, input().split())\n",
    "cnt = 0\n",
    "for _ in l:\n",
    "    if _==n: cnt += 1\n",
    "    \n",
    "print(cnt)"
   ]
  },
  {
   "cell_type": "markdown",
   "metadata": {},
   "source": [
    "# 백준 2530 인공지능 시계"
   ]
  },
  {
   "cell_type": "code",
   "execution_count": 1,
   "metadata": {},
   "outputs": [
    {
     "name": "stdout",
     "output_type": "stream",
     "text": [
      "14 33 20\n"
     ]
    }
   ],
   "source": [
    "H, M, S = map(int, input().split())\n",
    "D = int(input()) \n",
    "\n",
    "S += D % 60\n",
    "D = D // 60\n",
    "if S >= 60:\n",
    "    S -= 60\n",
    "    M += 1\n",
    "\n",
    "M += D % 60\n",
    "D = D // 60\n",
    "if M >= 60:\n",
    "    M -= 60\n",
    "    H += 1\n",
    "\n",
    "H += D % 24\n",
    "if H >= 24:\n",
    "    H -= 24\n",
    "\n",
    "print(H,M,S)"
   ]
  },
  {
   "cell_type": "markdown",
   "metadata": {},
   "source": [
    "# 백준 10156 과자"
   ]
  },
  {
   "cell_type": "code",
   "execution_count": 3,
   "metadata": {},
   "outputs": [
    {
     "name": "stdout",
     "output_type": "stream",
     "text": [
      "0\n"
     ]
    }
   ],
   "source": [
    "K, N, M = map(int, input().split())\n",
    "\n",
    "s = K*N - M\n",
    "if s<0: s=0\n",
    "\n",
    "print(s)"
   ]
  },
  {
   "cell_type": "markdown",
   "metadata": {},
   "source": [
    "# 백준 15680 연세대학교"
   ]
  },
  {
   "cell_type": "code",
   "execution_count": null,
   "metadata": {},
   "outputs": [],
   "source": [
    "n = int(input())\n",
    "\n",
    "if n==0:\n",
    "    print(\"YONSEI\")\n",
    "elif n==1:\n",
    "    print(\"Leading the Way to the Future\")"
   ]
  },
  {
   "cell_type": "markdown",
   "metadata": {},
   "source": [
    "# 백준 1297 TV 크기"
   ]
  },
  {
   "cell_type": "code",
   "execution_count": 1,
   "metadata": {},
   "outputs": [
    {
     "name": "stdout",
     "output_type": "stream",
     "text": [
      "25 45\n"
     ]
    }
   ],
   "source": [
    "d, h, w = map(int, input().split())\n",
    "r = d/((h**2+w**2)**0.5)\n",
    "print(int(h*r), int(w*r))"
   ]
  },
  {
   "cell_type": "markdown",
   "metadata": {},
   "source": [
    "# 백준 11943 파일 옮기기"
   ]
  },
  {
   "cell_type": "code",
   "execution_count": 2,
   "metadata": {},
   "outputs": [
    {
     "name": "stdout",
     "output_type": "stream",
     "text": [
      "5\n"
     ]
    }
   ],
   "source": [
    "apple_A, orange_B = map(int, input().split())\n",
    "apple_C, orange_D = map(int, input().split())\n",
    "\n",
    "print(orange_B+apple_C if apple_A+orange_D>=orange_B+apple_C else apple_A+orange_D)"
   ]
  },
  {
   "cell_type": "markdown",
   "metadata": {},
   "source": [
    "# 백준 15963 CASIO"
   ]
  },
  {
   "cell_type": "code",
   "execution_count": 2,
   "metadata": {},
   "outputs": [
    {
     "name": "stdout",
     "output_type": "stream",
     "text": [
      "0\n"
     ]
    }
   ],
   "source": [
    "n, m = map(int, input().split())\n",
    "\n",
    "if n==m: print(1)\n",
    "else: print(0)"
   ]
  },
  {
   "cell_type": "markdown",
   "metadata": {},
   "source": [
    "# 백준 17362 수학은 체육 과목입니다 2"
   ]
  },
  {
   "cell_type": "code",
   "execution_count": 2,
   "metadata": {},
   "outputs": [
    {
     "name": "stdout",
     "output_type": "stream",
     "text": [
      "2\n"
     ]
    }
   ],
   "source": [
    "n = int(input())\n",
    "\n",
    "ans = n%8\n",
    "\n",
    "if ans==1: print(1)\n",
    "elif ans==2 or ans==0: print(2)\n",
    "elif ans==3 or ans==7: print(3)\n",
    "elif ans==4 or ans==6: print(4)\n",
    "else: print(5)"
   ]
  },
  {
   "cell_type": "markdown",
   "metadata": {},
   "source": [
    "# 백준 17388 와글와글 숭고한"
   ]
  },
  {
   "cell_type": "code",
   "execution_count": 8,
   "metadata": {},
   "outputs": [
    {
     "name": "stdout",
     "output_type": "stream",
     "text": [
      "Korea\n"
     ]
    }
   ],
   "source": [
    "s, k, h = map(int, input().split())\n",
    "\n",
    "if s+k+h>=100:\n",
    "    print(\"OK\")\n",
    "else:\n",
    "    l = [s, k, h]\n",
    "    idx = l.index(min(l))\n",
    "    if idx==0: print(\"Soongsil\")\n",
    "    elif idx==1: print(\"Korea\")\n",
    "    else: print(\"Hanyang\")"
   ]
  },
  {
   "cell_type": "markdown",
   "metadata": {},
   "source": [
    "# 백준 10039 평균 점수"
   ]
  },
  {
   "cell_type": "code",
   "execution_count": 1,
   "metadata": {},
   "outputs": [
    {
     "name": "stdout",
     "output_type": "stream",
     "text": [
      "68\n"
     ]
    }
   ],
   "source": [
    "score = []\n",
    "for _ in range(5):\n",
    "    score.append(int(input()))\n",
    "\n",
    "total = 0\n",
    "for _ in score:\n",
    "    if _<40: total += 40\n",
    "    else: total += _\n",
    "\n",
    "print(int(total/5))"
   ]
  },
  {
   "cell_type": "markdown",
   "metadata": {},
   "source": [
    "# 백준 5543 상근날드"
   ]
  },
  {
   "cell_type": "code",
   "execution_count": 2,
   "metadata": {},
   "outputs": [
    {
     "name": "stdout",
     "output_type": "stream",
     "text": [
      "848\n"
     ]
    }
   ],
   "source": [
    "menu = []\n",
    "for _ in range(5):\n",
    "    menu.append(int(input()))\n",
    "\n",
    "h = min(menu[:3])\n",
    "d = min(menu[3:])\n",
    "\n",
    "print(h+d-50)"
   ]
  },
  {
   "cell_type": "markdown",
   "metadata": {},
   "source": [
    "# 백준 2420 사파리월드"
   ]
  },
  {
   "cell_type": "code",
   "execution_count": 3,
   "metadata": {},
   "outputs": [
    {
     "name": "stdout",
     "output_type": "stream",
     "text": [
      "7\n"
     ]
    }
   ],
   "source": [
    "n, m = map(int, input().split())\n",
    "print(abs(n-m))"
   ]
  },
  {
   "cell_type": "markdown",
   "metadata": {},
   "source": [
    "# 백준 10162 전자레인지"
   ]
  },
  {
   "cell_type": "code",
   "execution_count": 10,
   "metadata": {},
   "outputs": [
    {
     "name": "stdout",
     "output_type": "stream",
     "text": [
      "-1\n"
     ]
    }
   ],
   "source": [
    "t=int(input())\n",
    "a = b = c = 0\n",
    "if t%10 != 0:\n",
    "    print(-1)\n",
    "else:\n",
    "    a = t // 300\n",
    "    b = (t%300)//60\n",
    "    c = ((t%300)%60)//10\n",
    "    print(a, b, c)"
   ]
  },
  {
   "cell_type": "markdown",
   "metadata": {},
   "source": [
    "# 백준 5532 방학 숙제"
   ]
  },
  {
   "cell_type": "code",
   "execution_count": 10,
   "metadata": {},
   "outputs": [
    {
     "name": "stdout",
     "output_type": "stream",
     "text": [
      "15\n"
     ]
    }
   ],
   "source": [
    "import math\n",
    "\n",
    "arr = []\n",
    "for _ in range(5):\n",
    "    arr.append(int(input()))\n",
    "    \n",
    "if math.ceil(arr[1]/arr[3]) > math.ceil(arr[2]/arr[4]): print(arr[0] - math.ceil(arr[1]/arr[3]))\n",
    "else: print(arr[0]-math.ceil(arr[2]/arr[4]))"
   ]
  },
  {
   "cell_type": "markdown",
   "metadata": {},
   "source": [
    "# 백준 5596 시험 점수"
   ]
  },
  {
   "cell_type": "code",
   "execution_count": 13,
   "metadata": {},
   "outputs": [
    {
     "name": "stdout",
     "output_type": "stream",
     "text": [
      "320\n"
     ]
    }
   ],
   "source": [
    "a = sum(map(int,input().split()))\n",
    "b = sum(map(int,input().split()))\n",
    "print(max(a,b))"
   ]
  },
  {
   "cell_type": "markdown",
   "metadata": {},
   "source": [
    "# 백준 10707 수도요금"
   ]
  },
  {
   "cell_type": "code",
   "execution_count": 18,
   "metadata": {},
   "outputs": [
    {
     "name": "stdout",
     "output_type": "stream",
     "text": [
      "90\n"
     ]
    }
   ],
   "source": [
    "a = int(input())\n",
    "b = int(input())\n",
    "c = int(input())\n",
    "d = int(input())\n",
    "p = int(input())\n",
    "\n",
    "vx = a*p\n",
    "\n",
    "if p>c :\n",
    "  vy = b+((p-c)*d)\n",
    "else :\n",
    "  vy = b\n",
    "\n",
    "print(min(vx, vy))"
   ]
  },
  {
   "cell_type": "markdown",
   "metadata": {},
   "source": [
    "# 백준 10768 특별한 날"
   ]
  },
  {
   "cell_type": "code",
   "execution_count": 7,
   "metadata": {},
   "outputs": [
    {
     "name": "stdout",
     "output_type": "stream",
     "text": [
      "Special\n"
     ]
    }
   ],
   "source": [
    "m = int(input())*100\n",
    "d = int(input())\n",
    "\n",
    "if m+d>218:\n",
    "    print(\"After\")\n",
    "elif m+d==218:\n",
    "    print(\"Special\")\n",
    "else:\n",
    "    print(\"Before\")"
   ]
  },
  {
   "cell_type": "markdown",
   "metadata": {},
   "source": [
    "# 백준 5575 타임 카드"
   ]
  },
  {
   "cell_type": "code",
   "execution_count": 29,
   "metadata": {},
   "outputs": [
    {
     "name": "stdout",
     "output_type": "stream",
     "text": [
      "9 0 0\n",
      "8 59 59\n",
      "0 0 38\n"
     ]
    }
   ],
   "source": [
    "for i in range(3):\n",
    "    fh, fm, fs, lh, lm, ls = map(int, input().split())\n",
    "    first = (fm * 60) + (fh * 3600) + fs\n",
    "    last = (lm * 60) + (lh * 3600) + ls\n",
    "    time = last - first\n",
    "    h = time // 3600\n",
    "    m = (time % 3600) // 60\n",
    "    s = (time % 3600) % 60\n",
    "    print(f\"{h} {m} {s}\")"
   ]
  },
  {
   "cell_type": "markdown",
   "metadata": {},
   "source": [
    "# 백준 11948 과목선택"
   ]
  },
  {
   "cell_type": "code",
   "execution_count": 13,
   "metadata": {},
   "outputs": [
    {
     "name": "stdout",
     "output_type": "stream",
     "text": [
      "140\n"
     ]
    }
   ],
   "source": [
    "a = []\n",
    "\n",
    "for _ in range(6):\n",
    "    a.append(int(input()))\n",
    "    \n",
    "f, s = sorted(a[:4]), sorted(a[4:])\n",
    "\n",
    "print(sum(f[1:])+s[-1])"
   ]
  },
  {
   "cell_type": "markdown",
   "metadata": {},
   "source": [
    "# 백준 16486 운동장 한 바퀴"
   ]
  },
  {
   "cell_type": "code",
   "execution_count": 1,
   "metadata": {},
   "outputs": [
    {
     "name": "stdout",
     "output_type": "stream",
     "text": [
      "76.265472\n"
     ]
    }
   ],
   "source": [
    "d1 = int(input())\n",
    "d2 = int(input())\n",
    "pi = 3.141592\n",
    "\n",
    "print(2*d1+2*pi*d2)"
   ]
  },
  {
   "cell_type": "markdown",
   "metadata": {},
   "source": [
    "# 백준 4299 AFC 윔블던"
   ]
  },
  {
   "cell_type": "code",
   "execution_count": 4,
   "metadata": {},
   "outputs": [
    {
     "name": "stdout",
     "output_type": "stream",
     "text": [
      "2 1\n"
     ]
    }
   ],
   "source": [
    "a, b=map(int,input().split())\n",
    "if a < b:\n",
    "    print(-1)\n",
    "else:\n",
    "    x=(a+b)//2\n",
    "    y=(a-b)//2\n",
    "    if x+y==a and x-y==b:\n",
    "        print(x, y)\n",
    "    else:\n",
    "        print(-1)"
   ]
  }
 ],
 "metadata": {
  "interpreter": {
   "hash": "ca7051211f7d0cb84f9a5276aced427e23f2f109de898d0e63a1c129a12d67d5"
  },
  "kernelspec": {
   "display_name": "Python 3.9.12 64-bit",
   "language": "python",
   "name": "python3"
  },
  "language_info": {
   "codemirror_mode": {
    "name": "ipython",
    "version": 3
   },
   "file_extension": ".py",
   "mimetype": "text/x-python",
   "name": "python",
   "nbconvert_exporter": "python",
   "pygments_lexer": "ipython3",
   "version": "3.9.12"
  },
  "orig_nbformat": 4
 },
 "nbformat": 4,
 "nbformat_minor": 2
}
