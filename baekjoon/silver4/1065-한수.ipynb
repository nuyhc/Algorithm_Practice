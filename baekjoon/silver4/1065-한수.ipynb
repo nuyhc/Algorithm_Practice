{
 "cells": [
  {
   "cell_type": "markdown",
   "metadata": {},
   "source": [
    "# 백준 1065 한수\n",
    "## 문제\n",
    "어떤 양의 정수 X의 각 자리가 등차수열을 이룬다면, 그 수를 한수라고 한다.  \n",
    "등차 수열은 연속된 두 개의 수의 차이가 일정한 수열을 말한다.  \n",
    "N이 주어졌을 때, 1보다 크거나 같고, N보다 작거나 같은 한수의 개수를 출력하는 프로그램을 작성하시오.\n",
    "\n",
    "## 분석\n",
    "예전에 시도했다 머리 아파서 안풀었던 문제다.  \n",
    "일단 한수는 연속된 두 개의 수의 차이가 일정한 수열을 말한다고하니, 한자리수도 한수라고한다.  \n",
    "1부터 99까지는 모두 한수이다.\n",
    "  \n",
    "예제 입력 1을 보면 110을 넣고 출력으로 99가 나온다.  \n",
    "1~99는 모두 한수이고, 100~110에는 한수가 없다. 이를 바탕으로 한수에대해서 비교적 정확히 알 수 있었다."
   ]
  },
  {
   "cell_type": "code",
   "execution_count": 13,
   "metadata": {},
   "outputs": [
    {
     "name": "stdout",
     "output_type": "stream",
     "text": [
      "119\n"
     ]
    }
   ],
   "source": [
    "num = int(input())\n",
    "h = 99\n",
    "\n",
    "if num<100:\n",
    "    h = num\n",
    "else:\n",
    "    for _ in range(100, num+1):\n",
    "        n = list(map(int, str(_)))\n",
    "        if n[0]-n[1] == n[1]-n[2]:\n",
    "            h += 1\n",
    "\n",
    "print(h)"
   ]
  }
 ],
 "metadata": {
  "interpreter": {
   "hash": "ca7051211f7d0cb84f9a5276aced427e23f2f109de898d0e63a1c129a12d67d5"
  },
  "kernelspec": {
   "display_name": "Python 3.9.12 64-bit",
   "language": "python",
   "name": "python3"
  },
  "language_info": {
   "codemirror_mode": {
    "name": "ipython",
    "version": 3
   },
   "file_extension": ".py",
   "mimetype": "text/x-python",
   "name": "python",
   "nbconvert_exporter": "python",
   "pygments_lexer": "ipython3",
   "version": "3.9.12"
  },
  "orig_nbformat": 4
 },
 "nbformat": 4,
 "nbformat_minor": 2
}
