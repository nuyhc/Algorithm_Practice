{
 "cells": [
  {
   "cell_type": "markdown",
   "metadata": {},
   "source": [
    "# 백준 2441 별 찍기-4"
   ]
  },
  {
   "cell_type": "code",
   "execution_count": 2,
   "metadata": {},
   "outputs": [
    {
     "name": "stdout",
     "output_type": "stream",
     "text": [
      "*****\n",
      " ****\n",
      "  ***\n",
      "   **\n",
      "    *\n"
     ]
    }
   ],
   "source": [
    "n = int(input())\n",
    "\n",
    "for i in range(1, n+1):\n",
    "    print(\" \"*(i-1) + \"*\"*(n-i+1))"
   ]
  },
  {
   "cell_type": "markdown",
   "metadata": {},
   "source": [
    "# 백준 1085 직사각형에서 탈출"
   ]
  },
  {
   "cell_type": "code",
   "execution_count": 5,
   "metadata": {},
   "outputs": [
    {
     "name": "stdout",
     "output_type": "stream",
     "text": [
      "347\n"
     ]
    }
   ],
   "source": [
    "x, y, w, h = map(int, input().split())\n",
    "\n",
    "print(min(min(x, w-x), min(y, h-y)))"
   ]
  },
  {
   "cell_type": "markdown",
   "metadata": {},
   "source": [
    "# 백준 4153 직각삼각형"
   ]
  },
  {
   "cell_type": "code",
   "execution_count": 5,
   "metadata": {},
   "outputs": [
    {
     "name": "stdout",
     "output_type": "stream",
     "text": [
      "right\n",
      "wrong\n"
     ]
    }
   ],
   "source": [
    "while True:\n",
    "        a = list(map(int, input().split()))\n",
    "        max_num = max(a)\n",
    "        if sum(a) == 0:\n",
    "                break\n",
    "        a.remove(max_num)\n",
    "        if a[0] ** 2 + a[1] ** 2 == max_num ** 2:\n",
    "                print('right')\n",
    "        else:\n",
    "                print('wrong')"
   ]
  },
  {
   "cell_type": "markdown",
   "metadata": {},
   "source": [
    "# 백준 2442 별찍기 - 5"
   ]
  },
  {
   "cell_type": "code",
   "execution_count": 4,
   "metadata": {},
   "outputs": [
    {
     "name": "stdout",
     "output_type": "stream",
     "text": [
      "    *\n",
      "   ***\n",
      "  *****\n",
      " *******\n",
      "*********\n"
     ]
    }
   ],
   "source": [
    "n = int(input())\n",
    "\n",
    "for _ in range(1, n+1):\n",
    "    print(\" \"*(n-_) + \"*\"*((2*_)-1))"
   ]
  },
  {
   "cell_type": "markdown",
   "metadata": {},
   "source": [
    "# 백준 2446 별찍기 - 9"
   ]
  },
  {
   "cell_type": "code",
   "execution_count": 7,
   "metadata": {},
   "outputs": [
    {
     "name": "stdout",
     "output_type": "stream",
     "text": [
      "*********\n",
      " *******\n",
      "  *****\n",
      "   ***\n",
      "    *\n",
      "   ***\n",
      "  *****\n",
      " *******\n",
      "*********\n"
     ]
    }
   ],
   "source": [
    "n = int(input())\n",
    "\n",
    "for _ in range(n, 1, -1):\n",
    "    print(\" \"*(n-_) + \"*\"*((2*_)-1))\n",
    "\n",
    "for _ in range(1, n+1):\n",
    "    print(\" \"*(n-_) + \"*\"*((2*_)-1))"
   ]
  },
  {
   "cell_type": "markdown",
   "metadata": {},
   "source": [
    "# 백준 3009 네 번째 점"
   ]
  },
  {
   "cell_type": "code",
   "execution_count": 22,
   "metadata": {},
   "outputs": [
    {
     "name": "stdout",
     "output_type": "stream",
     "text": [
      "7 7\n"
     ]
    }
   ],
   "source": [
    "x_nums = []\n",
    "y_nums = []\n",
    "for _ in range(3):\n",
    "    x, y = map(int, input().split())\n",
    "    x_nums.append(x)\n",
    "    y_nums.append(y)\n",
    "\n",
    "for i in range(3):\n",
    "    if x_nums.count(x_nums[i]) == 1:\n",
    "        x4 = x_nums[i]\n",
    "    if y_nums.count(y_nums[i]) == 1:\n",
    "        y4 = y_nums[i]\n",
    "print(x4, y4)"
   ]
  },
  {
   "cell_type": "markdown",
   "metadata": {},
   "source": [
    "# 백준 2445 별찍기 - 8"
   ]
  },
  {
   "cell_type": "code",
   "execution_count": 1,
   "metadata": {},
   "outputs": [
    {
     "name": "stdout",
     "output_type": "stream",
     "text": [
      "*        *\n",
      "**      **\n",
      "***    ***\n",
      "****  ****\n",
      "**********\n",
      "****  ****\n",
      "***    ***\n",
      "**      **\n",
      "*        *\n"
     ]
    }
   ],
   "source": [
    "n=int(input())\n",
    "\n",
    "for i in range(1, n+1):\n",
    "    print('*' * i + ' ' * (n - i) + ' ' * (n - i) + '*' * i)\n",
    "for i in range(n-1, 0, -1):\n",
    "    print('*' * i + ' ' * (n - i) + ' ' * (n - i) + '*' * i)"
   ]
  },
  {
   "cell_type": "markdown",
   "metadata": {},
   "source": [
    "# 백준 2444 별찍기 - 7"
   ]
  },
  {
   "cell_type": "code",
   "execution_count": 1,
   "metadata": {},
   "outputs": [
    {
     "name": "stdout",
     "output_type": "stream",
     "text": [
      "    *\n",
      "   ***\n",
      "  *****\n",
      " *******\n",
      "*********\n",
      " *******\n",
      "  *****\n",
      "   ***\n",
      "    *\n"
     ]
    }
   ],
   "source": [
    "n = int(input())\n",
    "for i in range(1, n):\n",
    "    print(' '*(n-i) + '*'*(2*i-1))\n",
    "for i in range(n, 0, -1):\n",
    "    print(' '*(n-i) + '*'*(2*i-1))"
   ]
  },
  {
   "cell_type": "markdown",
   "metadata": {},
   "source": [
    "# 백준 2443 별찍기 - 6"
   ]
  },
  {
   "cell_type": "code",
   "execution_count": 2,
   "metadata": {},
   "outputs": [
    {
     "name": "stdout",
     "output_type": "stream",
     "text": [
      "*********\n",
      " *******\n",
      "  *****\n",
      "   ***\n",
      "    *\n"
     ]
    }
   ],
   "source": [
    "n = int(input())\n",
    "\n",
    "for i in range(n, 0, -1):\n",
    "    print(' '*(n-i) + '*'*(2*i-1))"
   ]
  },
  {
   "cell_type": "markdown",
   "metadata": {},
   "source": [
    "# 백준 2523 별찍기 - 13"
   ]
  },
  {
   "cell_type": "code",
   "execution_count": 1,
   "metadata": {},
   "outputs": [
    {
     "name": "stdout",
     "output_type": "stream",
     "text": [
      "*\n",
      "**\n",
      "***\n",
      "****\n",
      "*****\n",
      "****\n",
      "***\n",
      "**\n",
      "*\n"
     ]
    }
   ],
   "source": [
    "n = int(input())\n",
    "\n",
    "for _ in range(1, n+1):\n",
    "    print(\"*\"*_)\n",
    "for _ in range(n-1, 0, -1):\n",
    "    print(\"*\"*_)"
   ]
  },
  {
   "cell_type": "markdown",
   "metadata": {},
   "source": [
    "# 백준 2490 윷놀이"
   ]
  },
  {
   "cell_type": "code",
   "execution_count": 2,
   "metadata": {},
   "outputs": [
    {
     "name": "stdout",
     "output_type": "stream",
     "text": [
      "B\n",
      "A\n",
      "B\n"
     ]
    }
   ],
   "source": [
    "for _ in range(0,3):\n",
    "    temp = list(map(int, input().split()))\n",
    "    \n",
    "    r = temp.count(0)\n",
    "    \n",
    "    if r==0: print(\"E\")\n",
    "    elif r==1: print(\"A\")\n",
    "    elif r==2: print(\"B\")\n",
    "    elif r==3: print(\"C\")\n",
    "    elif r==4: print(\"D\")\n",
    "    "
   ]
  },
  {
   "cell_type": "markdown",
   "metadata": {},
   "source": [
    "# 백준 2522 별찍기 - 12"
   ]
  },
  {
   "cell_type": "code",
   "execution_count": 6,
   "metadata": {},
   "outputs": [
    {
     "name": "stdout",
     "output_type": "stream",
     "text": [
      "    *\n",
      "   **\n",
      "  ***\n",
      " ****\n",
      "*****\n",
      " ****\n",
      "  ***\n",
      "   **\n",
      "    *\n"
     ]
    }
   ],
   "source": [
    "n = int(input())\n",
    "\n",
    "for _ in range(n-1, 0, -1):\n",
    "    print(\" \"*_ + \"*\"*(n-_))\n",
    "for _ in range(0, n):\n",
    "    print(\" \"*_ + \"*\"*(n-_))"
   ]
  },
  {
   "cell_type": "markdown",
   "metadata": {},
   "source": [
    "# 백준 10991 별찍기 - 16"
   ]
  },
  {
   "cell_type": "code",
   "execution_count": 1,
   "metadata": {},
   "outputs": [
    {
     "name": "stdout",
     "output_type": "stream",
     "text": [
      "  *\n",
      " * *\n",
      "* * *\n"
     ]
    }
   ],
   "source": [
    "n = int(input())\n",
    "\n",
    "for i in range(1,n+1):\n",
    "     print(\" \" * (n-i) + \"* \" * (i-1) + \"*\")"
   ]
  },
  {
   "cell_type": "markdown",
   "metadata": {},
   "source": [
    "# 백준 10992 별찍기 - 17"
   ]
  },
  {
   "cell_type": "code",
   "execution_count": 1,
   "metadata": {},
   "outputs": [
    {
     "name": "stdout",
     "output_type": "stream",
     "text": [
      "  *\n",
      " * *\n",
      "*****\n"
     ]
    }
   ],
   "source": [
    "n = int(input())\n",
    "for i in range(1, n+1):\n",
    "    if(i==1 or i==n):\n",
    "        print(\" \"*(n-i) + \"*\"*(2*i-1))\n",
    "    else:\n",
    "        print(\" \"*(n-i) + \"*\" + \" \"*(2*(i-1)-1) + \"*\")"
   ]
  },
  {
   "cell_type": "markdown",
   "metadata": {},
   "source": [
    "# 백준 10995 별찍기 - 20"
   ]
  },
  {
   "cell_type": "code",
   "execution_count": 1,
   "metadata": {},
   "outputs": [
    {
     "name": "stdout",
     "output_type": "stream",
     "text": [
      "* * * \n",
      " * * *\n",
      "* * * \n"
     ]
    }
   ],
   "source": [
    "N = int(input())\n",
    "\n",
    "if N == 1:\n",
    "    print('*')\n",
    "    \n",
    "else:\n",
    "    for n in range(N):\n",
    "        if n % 2 == 0:\n",
    "            a = print('* ' * N)\n",
    "        else:\n",
    "            b = print(' *' * N)"
   ]
  },
  {
   "cell_type": "markdown",
   "metadata": {},
   "source": [
    "# 백준 3058 짝수를 찾아라"
   ]
  },
  {
   "cell_type": "code",
   "execution_count": null,
   "metadata": {},
   "outputs": [],
   "source": [
    "x = int(input())\n",
    "\n",
    "for i in range(x):\n",
    "    even_num = []\n",
    "    a = list(map(int, input().split()))\n",
    "    for i in a:\n",
    "        if i % 2 == 0:\n",
    "            even_num.append(i)\n",
    "    print(sum(even_num), min(even_num))"
   ]
  },
  {
   "cell_type": "markdown",
   "metadata": {},
   "source": [
    "# 백준 10990 별찍기 - 15"
   ]
  },
  {
   "cell_type": "code",
   "execution_count": 6,
   "metadata": {},
   "outputs": [
    {
     "name": "stdout",
     "output_type": "stream",
     "text": [
      "  *\n",
      " * *\n",
      "*   *\n"
     ]
    }
   ],
   "source": [
    "n = int(input())\n",
    "\n",
    "for i in range(n):\n",
    "    print(' ' * (n-i-1), end='')\n",
    "    print('*', end='')\n",
    "\n",
    "    if i == 0:\n",
    "        print()\n",
    "        continue\n",
    "\n",
    "    print(' ' * (i*2-1), end='')\n",
    "    print('*')"
   ]
  },
  {
   "cell_type": "markdown",
   "metadata": {},
   "source": [
    "# 백준 9295 주사위"
   ]
  },
  {
   "cell_type": "code",
   "execution_count": 1,
   "metadata": {},
   "outputs": [
    {
     "name": "stdout",
     "output_type": "stream",
     "text": [
      "Case 1: 3\n",
      "Case 2: 4\n",
      "Case 3: 8\n",
      "Case 4: 8\n",
      "Case 5: 7\n"
     ]
    }
   ],
   "source": [
    "t = int(input())\n",
    "\n",
    "for idx in range(1, t+1):\n",
    "    a, b = map(int, input().split())\n",
    "    print(f\"Case {idx}: {a+b}\")"
   ]
  }
 ],
 "metadata": {
  "kernelspec": {
   "display_name": "Python 3.9.12 ('base')",
   "language": "python",
   "name": "python3"
  },
  "language_info": {
   "codemirror_mode": {
    "name": "ipython",
    "version": 3
   },
   "file_extension": ".py",
   "mimetype": "text/x-python",
   "name": "python",
   "nbconvert_exporter": "python",
   "pygments_lexer": "ipython3",
   "version": "3.9.12"
  },
  "orig_nbformat": 4,
  "vscode": {
   "interpreter": {
    "hash": "2adf3ccca9222a21ddf813ce3f7330ff220318730c13c08bb78e423c67466e5c"
   }
  }
 },
 "nbformat": 4,
 "nbformat_minor": 2
}
